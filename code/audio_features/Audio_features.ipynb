{
  "nbformat": 4,
  "nbformat_minor": 0,
  "metadata": {
    "colab": {
      "name": "Audio_features.ipynb",
      "provenance": [],
      "collapsed_sections": []
    },
    "kernelspec": {
      "name": "python3",
      "display_name": "Python 3"
    },
    "accelerator": "GPU"
  },
  "cells": [
    {
      "cell_type": "markdown",
      "metadata": {
        "id": "Yke9PyxaJMHt",
        "colab_type": "text"
      },
      "source": [
        "#### If running in Google Colab, use the below route\n",
        "\n",
        "+  the below path should be changed to the exact path that you save this script\n"
      ]
    },
    {
      "cell_type": "code",
      "metadata": {
        "id": "Yf7KRhPAVXbC",
        "colab_type": "code",
        "outputId": "fac736ee-c9ce-481f-b2ac-de46aa3f5494",
        "colab": {
          "base_uri": "https://localhost:8080/",
          "height": 121
        }
      },
      "source": [
        "from google.colab import drive\n",
        "drive.mount('/content/drive')\n",
        "import os\n",
        "os.chdir('/content/drive/My Drive/PLearning/Precision Learning-PSU Only/precisionLearning/code/audio_features')"
      ],
      "execution_count": 0,
      "outputs": [
        {
          "output_type": "stream",
          "text": [
            "Go to this URL in a browser: https://accounts.google.com/o/oauth2/auth?client_id=947318989803-6bn6qk8qdgf4n4g3pfee6491hc0brc4i.apps.googleusercontent.com&redirect_uri=urn%3aietf%3awg%3aoauth%3a2.0%3aoob&response_type=code&scope=email%20https%3a%2f%2fwww.googleapis.com%2fauth%2fdocs.test%20https%3a%2f%2fwww.googleapis.com%2fauth%2fdrive%20https%3a%2f%2fwww.googleapis.com%2fauth%2fdrive.photos.readonly%20https%3a%2f%2fwww.googleapis.com%2fauth%2fpeopleapi.readonly\n",
            "\n",
            "Enter your authorization code:\n",
            "··········\n",
            "Mounted at /content/drive\n"
          ],
          "name": "stdout"
        }
      ]
    },
    {
      "cell_type": "code",
      "metadata": {
        "id": "fdkI4I6jVdDp",
        "colab_type": "code",
        "colab": {}
      },
      "source": [
        "data_base_dir = '/content/drive/My Drive/PLearning/Precision Learning-PSU Only/precisionLearning/code/audio_features'\n"
      ],
      "execution_count": 0,
      "outputs": []
    },
    {
      "cell_type": "code",
      "metadata": {
        "id": "yNIt52YvV5Tk",
        "colab_type": "code",
        "colab": {}
      },
      "source": [
        "!pip install soundfile\n",
        "!pip install pydub\n",
        "!pip install SpeechRecognition"
      ],
      "execution_count": 0,
      "outputs": []
    },
    {
      "cell_type": "code",
      "metadata": {
        "id": "oEAJdrHWVSye",
        "colab_type": "code",
        "colab": {}
      },
      "source": [
        "import soundfile as sf\n",
        "from os import path\n",
        "from pydub import AudioSegment\n",
        "from pydub.silence import split_on_silence\n",
        "import math\n",
        "import re\n",
        "import glob\n",
        "import pandas as pd\n",
        "import librosa\n",
        "import numpy as np\n",
        "import speech_recognition as sr\n",
        "import string"
      ],
      "execution_count": 0,
      "outputs": []
    },
    {
      "cell_type": "code",
      "metadata": {
        "id": "pIVMKgFVgc53",
        "colab_type": "code",
        "outputId": "8a838551-778d-4f8e-d9c9-6d919b8a6a7e",
        "colab": {
          "base_uri": "https://localhost:8080/",
          "height": 101
        }
      },
      "source": [
        "#Driver code\n",
        "#Load .wav files\n",
        "import os \n",
        "import glob\n",
        "audiodir=os.path.join(data_base_dir,'Extracted_audios')\n",
        "\n",
        "print(audiodir)\n",
        "audioFiles=[]\n",
        "for file in os.listdir(audiodir):\n",
        "    # print(file)\n",
        "    if file.endswith('.wav'):\n",
        "        afile=os.path.join(audiodir,file)\n",
        "        audioFiles.append(afile)\n",
        "print(len(audioFiles))\n",
        "audioFiles[:3]"
      ],
      "execution_count": 0,
      "outputs": [
        {
          "output_type": "stream",
          "text": [
            "/content/drive/My Drive/Extracted_audios\n",
            "184\n"
          ],
          "name": "stdout"
        },
        {
          "output_type": "execute_result",
          "data": {
            "text/plain": [
              "['/content/drive/My Drive/Extracted_audios/7.NS.A.1b _ 7.NS.A.1c - Addition and Subtraction of Rational Numbers (Part 1 of 2)-LXZqE_soFzY.wav',\n",
              " '/content/drive/My Drive/Extracted_audios/CCSS 7.NS.1.d-k2rrJDcOGsw.wav',\n",
              " '/content/drive/My Drive/Extracted_audios/[7.EE.4a-1.0] Equations in Form px + q = r - Common Core Standard-i1quLORCZ2g.wav']"
            ]
          },
          "metadata": {
            "tags": []
          },
          "execution_count": 14
        }
      ]
    },
    {
      "cell_type": "code",
      "metadata": {
        "id": "iFKMd8E3gB5g",
        "colab_type": "code",
        "colab": {}
      },
      "source": [
        "def pitch_tuning(audioFiles):\n",
        "    output = []\n",
        "    for i in range(len(audioFiles)): \n",
        "        temp = []\n",
        "        y,sr = librosa.load(audioFiles[i])\n",
        "        pitches, magnitudes = librosa.piptrack(y=y, sr=sr)\n",
        "        # Select out pitches with high energy\n",
        "        pitches = pitches[magnitudes > np.median(magnitudes)]\n",
        "        pitch = librosa.pitch_tuning(pitches)\n",
        "        name = audioFiles[i][len(audioFiles[i])-15:-4]\n",
        "        temp.append(name)\n",
        "        temp.append(pitch)\n",
        "        output.append(temp)\n",
        "    df = pd.DataFrame(data=output, columns=['Video ids', 'pitch_tuning'])\n",
        "    from pathlib import Path\n",
        "    data_dir=Path(os.path.join(data_base_dir,'new_output'))\n",
        "    data_dir.mkdir(exist_ok=True)\n",
        "    df.to_csv('{}/pitch_tuning.csv'.format(data_dir), index=False)"
      ],
      "execution_count": 0,
      "outputs": []
    },
    {
      "cell_type": "code",
      "metadata": {
        "id": "z-xNJ-61gZgA",
        "colab_type": "code",
        "colab": {}
      },
      "source": [
        "# Find high pitches in the audio\n",
        "pitch_tuning(audioFiles)"
      ],
      "execution_count": 0,
      "outputs": []
    },
    {
      "cell_type": "code",
      "metadata": {
        "id": "Gme9cByrhYrK",
        "colab_type": "code",
        "colab": {}
      },
      "source": [
        "def noise(audioFiles,data_base_dir):\n",
        "    output = []\n",
        "    # audioFiles = glob.glob(\"*.wav\")\n",
        "    # output = []\n",
        "    for i in range(len(audioFiles)):\n",
        "        count = 0\n",
        "        temp =[]\n",
        "        y,sr = librosa.load(audioFiles[i])\n",
        "        flatness = librosa.feature.spectral_flatness(y=y)\n",
        "        # Select out noise with high spectral flatness\n",
        "        noise =np.median(flatness)\n",
        "        count  = flatness[flatness>=1.0]\n",
        "        noisecount = len(count)/np.size(flatness)\n",
        "        name = audioFiles[i][len(audioFiles[i])-15:-4]\n",
        "        temp.append(name)\n",
        "        temp.append(noise)\n",
        "        temp.append(noisecount)\n",
        "        output.append(np.transpose(temp))\n",
        "    df = pd.DataFrame(data=output, columns=['Video ids', 'median flatness', 'count of 1s/total frames'])\n",
        "    #Outputs the noisy values in the audio\n",
        "    from pathlib import Path\n",
        "    data_dir=Path(os.path.join(data_base_dir,'new_output'))\n",
        "    data_dir.mkdir(exist_ok=True)\n",
        "    df.to_csv('{}/noise.csv'.format(data_dir), index=False)"
      ],
      "execution_count": 0,
      "outputs": []
    },
    {
      "cell_type": "code",
      "metadata": {
        "id": "GX0dkVp0hgO1",
        "colab_type": "code",
        "colab": {}
      },
      "source": [
        "#Find noise in the audio\n",
        "noise(audioFiles,data_base_dir)"
      ],
      "execution_count": 0,
      "outputs": []
    },
    {
      "cell_type": "code",
      "metadata": {
        "id": "sQaiVTxNTevJ",
        "colab_type": "code",
        "colab": {}
      },
      "source": [
        "def speed(audioFiles,data_base_dir):\n",
        "    output= []\n",
        "    for i in range(len(audioFiles)):  \n",
        "        audio = AudioSegment.from_wav(audioFiles[i])\n",
        "        # Split audio by each minute\n",
        "        duration = len(audio)\n",
        "        number_of_segments = duration/(60*1000)\n",
        "        k = math.floor(number_of_segments)\n",
        "        # k is the number of segments in the audio\n",
        "        if k == 0:\n",
        "            k=1\n",
        "        print(audioFiles[i])\n",
        "        t1 = 1\n",
        "        s = 0\n",
        "        t2=60 *1000\n",
        "        temp = []\n",
        "        for j in range(1,k+1):\n",
        "            t2 = j * 60 * 1000\n",
        "            newaudio = audio[t1:t2]\n",
        "            # Path to save the split audio files\n",
        "            filename = str(audioFiles[i][:-4])+'_'+str(j)+'.wav'\n",
        "            newaudio.export(filename, format=\"wav\")\n",
        "            #Speech recognition using Google Speech API\n",
        "            r = sr.Recognizer()\n",
        "            with sr.AudioFile(filename) as source:\n",
        "                readaudio = r.record(source)\n",
        "                try:\n",
        "                    test = r.recognize_google(readaudio)\n",
        "                    res = sum([i.strip(string.punctuation).isalpha() for i in test.split()])\n",
        "                except sr.UnknownValueError:\n",
        "                    #Incase of an error an arbitrary value is assigned\n",
        "                    print(\"Google Speech Recognition could not understand audio\")\n",
        "                    res = 50\n",
        "            s =s + res\n",
        "            t1 = t1+ (60 *1000)\n",
        "        # Same method for the remainder seconds\n",
        "        if (t2<duration):\n",
        "            k = k+1\n",
        "            newaudio = audio[t2+1:duration]\n",
        "            filename = str(audioFiles[i][:-4])+'_'+str(j)+'.wav'\n",
        "            newaudio.export(filename, format=\"wav\")\n",
        "            r = sr.Recognizer()\n",
        "            with sr.AudioFile(filename) as source:\n",
        "                readaudio = r.record(source)\n",
        "                try:\n",
        "                    test = r.recognize_google(readaudio)\n",
        "                    res = sum([i.strip(string.punctuation).isalpha() for i in test.split()])\n",
        "                except sr.UnknownValueError:\n",
        "                    print(\"Google Speech Recognition could not understand audio\")\n",
        "                    res = 50 \n",
        "            s =s + res\n",
        "        #Name denotes the video ids in the audio file name\n",
        "        name = audioFiles[i][len(audioFiles[i])-15:-4]\n",
        "        temp.append(name)\n",
        "        wpm = s/k\n",
        "        temp.append(wpm)\n",
        "        output.append(temp)\n",
        "    output = np.transpose(output)\n",
        "    output = np.transpose(output)\n",
        "    df = pd.DataFrame(data = output, columns=['Video ids', 'wpm'] )\n",
        "    # Outputs the average words per minute in the audio\n",
        "    from pathlib import Path\n",
        "    data_dir=Path(os.path.join(data_base_dir,'new_output'))\n",
        "    data_dir.mkdir(exist_ok=True)\n",
        "    df.to_csv('{}/wpm.csv'.format(data_dir), index=False)"
      ],
      "execution_count": 0,
      "outputs": []
    },
    {
      "cell_type": "code",
      "metadata": {
        "id": "zQ8rlpvq_Tet",
        "colab_type": "code",
        "outputId": "f06263c7-630b-4aeb-aff7-3235d18199b9",
        "colab": {
          "base_uri": "https://localhost:8080/",
          "height": 50
        }
      },
      "source": [
        "#Audio files will be split and saved to the same folder as the original files. Make a copy of the original files to rerun this code in\n",
        "import os\n",
        "\n",
        "os.chdir( '/content/drive/My Drive')\n",
        "speed(audioFiles,data_base_dir)"
      ],
      "execution_count": 0,
      "outputs": [
        {
          "output_type": "stream",
          "text": [
            "/content/drive/My Drive/Extracted_audios/7.NS.A.1b _ 7.NS.A.1c - Addition and Subtraction of Rational Numbers (Part 1 of 2)-LXZqE_soFzY.wav\n",
            "/content/drive/My Drive/Extracted_audios/CCSS 7.NS.1.d-k2rrJDcOGsw.wav\n"
          ],
          "name": "stdout"
        }
      ]
    },
    {
      "cell_type": "markdown",
      "metadata": {
        "id": "1sbSCIia_Nqg",
        "colab_type": "text"
      },
      "source": [
        ""
      ]
    }
  ]
}